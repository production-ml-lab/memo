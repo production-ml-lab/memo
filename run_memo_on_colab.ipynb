{
  "nbformat": 4,
  "nbformat_minor": 0,
  "metadata": {
    "colab": {
      "provenance": [],
      "gpuType": "T4"
    },
    "kernelspec": {
      "name": "python3",
      "display_name": "Python 3"
    },
    "language_info": {
      "name": "python"
    },
    "accelerator": "GPU"
  },
  "cells": [
    {
      "cell_type": "code",
      "execution_count": 1,
      "metadata": {
        "colab": {
          "base_uri": "https://localhost:8080/"
        },
        "id": "xZqwFtdDzaA3",
        "outputId": "4f724965-9b57-48fa-e48c-e8b3799d4551"
      },
      "outputs": [
        {
          "output_type": "stream",
          "name": "stdout",
          "text": [
            "Cloning into 'memo'...\n",
            "remote: Enumerating objects: 75, done.\u001b[K\n",
            "remote: Counting objects: 100% (20/20), done.\u001b[K\n",
            "remote: Compressing objects: 100% (19/19), done.\u001b[K\n",
            "remote: Total 75 (delta 5), reused 6 (delta 1), pack-reused 55 (from 1)\u001b[K\n",
            "Receiving objects: 100% (75/75), 93.44 MiB | 16.21 MiB/s, done.\n",
            "Resolving deltas: 100% (20/20), done.\n"
          ]
        }
      ],
      "source": [
        "!git clone https://github.com/production-ml-lab/memo"
      ]
    },
    {
      "cell_type": "code",
      "source": [
        "# get dataset\n",
        "!git clone https://github.com/modestyachts/CIFAR-10.1.git\n",
        "!wget https://zenodo.org/api/records/2535967/files-archive"
      ],
      "metadata": {
        "colab": {
          "base_uri": "https://localhost:8080/"
        },
        "id": "CVeF-j-BzdlD",
        "outputId": "a83adbe1-c859-47be-af4a-820bade3f514"
      },
      "execution_count": 8,
      "outputs": [
        {
          "output_type": "stream",
          "name": "stdout",
          "text": [
            "Cloning into 'CIFAR-10.1'...\n",
            "remote: Enumerating objects: 522, done.\u001b[K\n",
            "remote: Total 522 (delta 0), reused 0 (delta 0), pack-reused 522 (from 1)\u001b[K\n",
            "Receiving objects: 100% (522/522), 12.44 MiB | 16.01 MiB/s, done.\n",
            "Resolving deltas: 100% (352/352), done.\n",
            "--2025-02-17 10:06:08--  https://zenodo.org/api/records/2535967/files-archive\n",
            "Resolving zenodo.org (zenodo.org)... 188.185.43.25, 188.185.45.92, 188.185.48.194, ...\n",
            "Connecting to zenodo.org (zenodo.org)|188.185.43.25|:443... connected.\n",
            "HTTP request sent, awaiting response... 200 OK\n",
            "Length: unspecified [application/zip]\n",
            "Saving to: ‘files-archive’\n",
            "\n",
            "files-archive           [   <=>              ]  19.38G  11.9MB/s    in 29m 26s \n",
            "\n",
            "2025-02-17 10:35:35 (11.2 MB/s) - ‘files-archive’ saved [20807749834]\n",
            "\n"
          ]
        }
      ]
    },
    {
      "cell_type": "code",
      "source": [
        "!tar xvzf files-archive"
      ],
      "metadata": {
        "id": "4N1HGhy1fUkt",
        "outputId": "5f3fb52f-b100-43b0-984e-656c8cd2af8e",
        "colab": {
          "base_uri": "https://localhost:8080/"
        }
      },
      "execution_count": 16,
      "outputs": [
        {
          "output_type": "stream",
          "name": "stdout",
          "text": [
            "CIFAR-10-C/\n",
            "CIFAR-10-C/fog.npy\n",
            "CIFAR-10-C/jpeg_compression.npy\n",
            "CIFAR-10-C/zoom_blur.npy\n",
            "CIFAR-10-C/speckle_noise.npy\n",
            "CIFAR-10-C/glass_blur.npy\n",
            "CIFAR-10-C/spatter.npy\n",
            "CIFAR-10-C/shot_noise.npy\n",
            "CIFAR-10-C/defocus_blur.npy\n",
            "CIFAR-10-C/elastic_transform.npy\n",
            "CIFAR-10-C/gaussian_blur.npy\n",
            "CIFAR-10-C/frost.npy\n",
            "CIFAR-10-C/saturate.npy\n",
            "CIFAR-10-C/brightness.npy\n",
            "CIFAR-10-C/snow.npy\n",
            "CIFAR-10-C/gaussian_noise.npy\n",
            "CIFAR-10-C/motion_blur.npy\n",
            "CIFAR-10-C/contrast.npy\n",
            "CIFAR-10-C/impulse_noise.npy\n",
            "CIFAR-10-C/labels.npy\n",
            "CIFAR-10-C/pixelate.npy\n"
          ]
        }
      ]
    },
    {
      "cell_type": "code",
      "source": [
        "import os\n",
        "os.chdir('memo/cifar-10-exps')"
      ],
      "metadata": {
        "id": "LShuCc1RzjlL"
      },
      "execution_count": 3,
      "outputs": []
    },
    {
      "cell_type": "code",
      "source": [
        "!ls results"
      ],
      "metadata": {
        "colab": {
          "base_uri": "https://localhost:8080/"
        },
        "id": "yQDOtrwDzke0",
        "outputId": "cb6d5916-4fe7-4bda-bb4e-40064b43e6eb"
      },
      "execution_count": 7,
      "outputs": [
        {
          "output_type": "stream",
          "name": "stdout",
          "text": [
            "cifar10_rn26_gn\n"
          ]
        }
      ]
    },
    {
      "cell_type": "code",
      "source": [
        "!pip install tqdm"
      ],
      "metadata": {
        "colab": {
          "base_uri": "https://localhost:8080/"
        },
        "id": "BAPETQ4dzk4X",
        "outputId": "3f3f27f2-3935-40f6-d77a-846e8ad1d909"
      },
      "execution_count": 5,
      "outputs": [
        {
          "output_type": "stream",
          "name": "stdout",
          "text": [
            "Requirement already satisfied: tqdm in /usr/local/lib/python3.11/dist-packages (4.67.1)\n"
          ]
        }
      ]
    },
    {
      "cell_type": "code",
      "source": [
        "!cat cifar-10-exps/script_c10.sh"
      ],
      "metadata": {
        "colab": {
          "base_uri": "https://localhost:8080/"
        },
        "id": "BBkNflxHz6iB",
        "outputId": "a3d92341-b42b-44f1-b102-606853da4025"
      },
      "execution_count": 6,
      "outputs": [
        {
          "output_type": "stream",
          "name": "stdout",
          "text": [
            "cat: cifar-10-exps/script_c10.sh: No such file or directory\n"
          ]
        }
      ]
    },
    {
      "cell_type": "code",
      "source": [
        "!sh script_c10.sh"
      ],
      "metadata": {
        "colab": {
          "base_uri": "https://localhost:8080/"
        },
        "id": "zTkCJRrDz-9Y",
        "outputId": "2811705b-19d8-4b19-97a2-e87c00a77722"
      },
      "execution_count": null,
      "outputs": [
        {
          "output_type": "stream",
          "name": "stdout",
          "text": [
            "original 0\n",
            "Building model...\n",
            "Test on the original test set\n",
            "Downloading https://www.cs.toronto.edu/~kriz/cifar-10-python.tar.gz to /path/to/cifar10/datasets/cifar-10-python.tar.gz\n",
            "100% 170M/170M [00:03<00:00, 47.8MB/s]\n",
            "Extracting /path/to/cifar10/datasets/cifar-10-python.tar.gz to /path/to/cifar10/datasets/\n",
            "/usr/local/lib/python3.11/dist-packages/torch/utils/data/dataloader.py:617: UserWarning: This DataLoader will create 8 worker processes in total. Our suggested max number of worker in current system is 2, which is smaller than what this DataLoader is going to create. Please be aware that excessive worker creation might get DataLoader running slow or even freeze, lower the worker number to avoid potential slowness/freeze if necessary.\n",
            "  warnings.warn(\n",
            "Resuming from results/cifar10_rn26_gn/...\n",
            "/content/memo/cifar-10-exps/test_calls/test_initial.py:26: FutureWarning: You are using `torch.load` with `weights_only=False` (the current default value), which uses the default pickle module implicitly. It is possible to construct malicious pickle data which will execute arbitrary code during unpickling (See https://github.com/pytorch/pytorch/blob/main/SECURITY.md#untrusted-models for more details). In a future release, the default value for `weights_only` will be flipped to `True`. This limits the functions that could be executed during unpickling. Arbitrary objects will no longer be allowed to be loaded via this mode unless they are explicitly allowlisted by the user via `torch.serialization.add_safe_globals`. We recommend you start setting `weights_only=True` for any use case where you don't have full control of the loaded file. Please open an issue on GitHub for any issues related to this experimental feature.\n",
            "  ckpt = torch.load(args.resume + '/ckpt.pth')\n",
            "Error on original test set 9.17\n",
            "Error on corrupted test set 9.17\n",
            "Building model...\n",
            "Test on the original test set\n",
            "Files already downloaded and verified\n",
            "/usr/local/lib/python3.11/dist-packages/torch/utils/data/dataloader.py:617: UserWarning: This DataLoader will create 8 worker processes in total. Our suggested max number of worker in current system is 2, which is smaller than what this DataLoader is going to create. Please be aware that excessive worker creation might get DataLoader running slow or even freeze, lower the worker number to avoid potential slowness/freeze if necessary.\n",
            "  warnings.warn(\n",
            "Resuming from results/cifar10_rn26_gn/...\n",
            "/content/memo/cifar-10-exps/test_calls/test_adapt.py:35: FutureWarning: You are using `torch.load` with `weights_only=False` (the current default value), which uses the default pickle module implicitly. It is possible to construct malicious pickle data which will execute arbitrary code during unpickling (See https://github.com/pytorch/pytorch/blob/main/SECURITY.md#untrusted-models for more details). In a future release, the default value for `weights_only` will be flipped to `True`. This limits the functions that could be executed during unpickling. Arbitrary objects will no longer be allowed to be loaded via this mode unless they are explicitly allowlisted by the user via `torch.serialization.add_safe_globals`. We recommend you start setting `weights_only=True` for any use case where you don't have full control of the loaded file. Please open an issue on GitHub for any issues related to this experimental feature.\n",
            "  ckpt = torch.load(args.resume + '/ckpt.pth')\n",
            "Running...\n",
            " 10% 956/10000 [01:29<13:00, 11.58it/s]"
          ]
        }
      ]
    },
    {
      "cell_type": "code",
      "source": [],
      "metadata": {
        "id": "MS7ve9rF0B1q"
      },
      "execution_count": null,
      "outputs": []
    }
  ]
}