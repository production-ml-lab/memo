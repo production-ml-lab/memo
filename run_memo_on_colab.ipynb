{
  "nbformat": 4,
  "nbformat_minor": 0,
  "metadata": {
    "colab": {
      "provenance": [],
      "gpuType": "T4"
    },
    "kernelspec": {
      "name": "python3",
      "display_name": "Python 3"
    },
    "language_info": {
      "name": "python"
    },
    "accelerator": "GPU"
  },
  "cells": [
    {
      "cell_type": "code",
      "execution_count": 4,
      "metadata": {
        "colab": {
          "base_uri": "https://localhost:8080/"
        },
        "id": "xZqwFtdDzaA3",
        "outputId": "ab5becb7-c2b2-46bc-92b9-ffdc0676a4fa"
      },
      "outputs": [
        {
          "output_type": "stream",
          "name": "stdout",
          "text": [
            "Cloning into 'memo'...\n",
            "remote: Enumerating objects: 68, done.\u001b[K\n",
            "remote: Counting objects: 100% (13/13), done.\u001b[K\n",
            "remote: Compressing objects: 100% (13/13), done.\u001b[K\n",
            "remote: Total 68 (delta 3), reused 4 (delta 0), pack-reused 55 (from 1)\u001b[K\n",
            "Receiving objects: 100% (68/68), 93.44 MiB | 32.73 MiB/s, done.\n",
            "Resolving deltas: 100% (18/18), done.\n",
            "Updating files: 100% (22/22), done.\n"
          ]
        }
      ],
      "source": [
        "!git clone https://github.com/production-ml-lab/memo"
      ]
    },
    {
      "cell_type": "code",
      "source": [
        "!ls"
      ],
      "metadata": {
        "colab": {
          "base_uri": "https://localhost:8080/"
        },
        "id": "CVeF-j-BzdlD",
        "outputId": "5818d9bb-7cc7-42b8-bcc5-488f77fb953b"
      },
      "execution_count": 5,
      "outputs": [
        {
          "output_type": "stream",
          "name": "stdout",
          "text": [
            "memo  sample_data\n"
          ]
        }
      ]
    },
    {
      "cell_type": "code",
      "source": [
        "import os\n",
        "os.chdir('memo/cifar-10-exps')"
      ],
      "metadata": {
        "id": "LShuCc1RzjlL"
      },
      "execution_count": 6,
      "outputs": []
    },
    {
      "cell_type": "code",
      "source": [
        "!ls"
      ],
      "metadata": {
        "colab": {
          "base_uri": "https://localhost:8080/"
        },
        "id": "yQDOtrwDzke0",
        "outputId": "21787d12-fc81-41f6-d358-693bb44a722e"
      },
      "execution_count": 7,
      "outputs": [
        {
          "output_type": "stream",
          "name": "stdout",
          "text": [
            "models\tresults  script_c10.sh\tscript_test_c10.py  test_calls\tutils\n"
          ]
        }
      ]
    },
    {
      "cell_type": "code",
      "source": [
        "!pip install tqdm"
      ],
      "metadata": {
        "colab": {
          "base_uri": "https://localhost:8080/"
        },
        "id": "BAPETQ4dzk4X",
        "outputId": "b559df68-9c00-4aa3-d0c3-3b1df1972746"
      },
      "execution_count": 6,
      "outputs": [
        {
          "output_type": "stream",
          "name": "stdout",
          "text": [
            "Requirement already satisfied: tqdm in /usr/local/lib/python3.11/dist-packages (4.67.1)\n"
          ]
        }
      ]
    },
    {
      "cell_type": "code",
      "source": [
        "!cat cifar-10-exps/script_c10.sh"
      ],
      "metadata": {
        "colab": {
          "base_uri": "https://localhost:8080/"
        },
        "id": "BBkNflxHz6iB",
        "outputId": "c24c353a-2c1d-457a-aa98-942bc4906b38"
      },
      "execution_count": 8,
      "outputs": [
        {
          "output_type": "stream",
          "name": "stdout",
          "text": [
            "export PYTHONPATH=$PYTHONPATH:$(pwd)\n",
            "python script_test_c10.py --experiment cifar10  --resume rn26_gn\n",
            "python script_test_c10.py --experiment cifar101 --resume rn26_gn\n",
            "# the following command takes much longer to run\n",
            "python script_test_c10.py --experiment cifar10c --resume rn26_gn\n"
          ]
        }
      ]
    },
    {
      "cell_type": "code",
      "source": [
        "!sh script_c10.sh"
      ],
      "metadata": {
        "colab": {
          "base_uri": "https://localhost:8080/"
        },
        "id": "zTkCJRrDz-9Y",
        "outputId": "2811705b-19d8-4b19-97a2-e87c00a77722"
      },
      "execution_count": null,
      "outputs": [
        {
          "output_type": "stream",
          "name": "stdout",
          "text": [
            "original 0\n",
            "Building model...\n",
            "Test on the original test set\n",
            "Downloading https://www.cs.toronto.edu/~kriz/cifar-10-python.tar.gz to /path/to/cifar10/datasets/cifar-10-python.tar.gz\n",
            "100% 170M/170M [00:03<00:00, 47.8MB/s]\n",
            "Extracting /path/to/cifar10/datasets/cifar-10-python.tar.gz to /path/to/cifar10/datasets/\n",
            "/usr/local/lib/python3.11/dist-packages/torch/utils/data/dataloader.py:617: UserWarning: This DataLoader will create 8 worker processes in total. Our suggested max number of worker in current system is 2, which is smaller than what this DataLoader is going to create. Please be aware that excessive worker creation might get DataLoader running slow or even freeze, lower the worker number to avoid potential slowness/freeze if necessary.\n",
            "  warnings.warn(\n",
            "Resuming from results/cifar10_rn26_gn/...\n",
            "/content/memo/cifar-10-exps/test_calls/test_initial.py:26: FutureWarning: You are using `torch.load` with `weights_only=False` (the current default value), which uses the default pickle module implicitly. It is possible to construct malicious pickle data which will execute arbitrary code during unpickling (See https://github.com/pytorch/pytorch/blob/main/SECURITY.md#untrusted-models for more details). In a future release, the default value for `weights_only` will be flipped to `True`. This limits the functions that could be executed during unpickling. Arbitrary objects will no longer be allowed to be loaded via this mode unless they are explicitly allowlisted by the user via `torch.serialization.add_safe_globals`. We recommend you start setting `weights_only=True` for any use case where you don't have full control of the loaded file. Please open an issue on GitHub for any issues related to this experimental feature.\n",
            "  ckpt = torch.load(args.resume + '/ckpt.pth')\n",
            "Error on original test set 9.17\n",
            "Error on corrupted test set 9.17\n",
            "Building model...\n",
            "Test on the original test set\n",
            "Files already downloaded and verified\n",
            "/usr/local/lib/python3.11/dist-packages/torch/utils/data/dataloader.py:617: UserWarning: This DataLoader will create 8 worker processes in total. Our suggested max number of worker in current system is 2, which is smaller than what this DataLoader is going to create. Please be aware that excessive worker creation might get DataLoader running slow or even freeze, lower the worker number to avoid potential slowness/freeze if necessary.\n",
            "  warnings.warn(\n",
            "Resuming from results/cifar10_rn26_gn/...\n",
            "/content/memo/cifar-10-exps/test_calls/test_adapt.py:35: FutureWarning: You are using `torch.load` with `weights_only=False` (the current default value), which uses the default pickle module implicitly. It is possible to construct malicious pickle data which will execute arbitrary code during unpickling (See https://github.com/pytorch/pytorch/blob/main/SECURITY.md#untrusted-models for more details). In a future release, the default value for `weights_only` will be flipped to `True`. This limits the functions that could be executed during unpickling. Arbitrary objects will no longer be allowed to be loaded via this mode unless they are explicitly allowlisted by the user via `torch.serialization.add_safe_globals`. We recommend you start setting `weights_only=True` for any use case where you don't have full control of the loaded file. Please open an issue on GitHub for any issues related to this experimental feature.\n",
            "  ckpt = torch.load(args.resume + '/ckpt.pth')\n",
            "Running...\n",
            " 10% 956/10000 [01:29<13:00, 11.58it/s]"
          ]
        }
      ]
    },
    {
      "cell_type": "code",
      "source": [],
      "metadata": {
        "id": "MS7ve9rF0B1q"
      },
      "execution_count": null,
      "outputs": []
    }
  ]
}